{
 "cells": [
  {
   "cell_type": "code",
   "execution_count": 71,
   "id": "cf9420f0-9e6a-4234-8c23-9c9a4dfe207e",
   "metadata": {},
   "outputs": [],
   "source": [
    "from pyspark.sql.functions import udf\n",
    "from pyspark.sql.types import DecimalType"
   ]
  },
  {
   "cell_type": "code",
   "execution_count": 2,
   "id": "c277710c-3e30-4abe-8e61-d0057af22b2a",
   "metadata": {},
   "outputs": [],
   "source": [
    "from pyspark.sql import SparkSession\n",
    "\n",
    "spark = SparkSession.builder.getOrCreate()"
   ]
  },
  {
   "cell_type": "code",
   "execution_count": 5,
   "id": "af21a8aa-886e-4035-a3bc-6818553336b4",
   "metadata": {},
   "outputs": [],
   "source": [
    "from datetime import datetime, date\n",
    "import pandas as pd\n",
    "from pyspark.sql import Row"
   ]
  },
  {
   "cell_type": "code",
   "execution_count": 40,
   "id": "a35d8973-6f17-414a-8714-3e242a4b153c",
   "metadata": {},
   "outputs": [],
   "source": [
    "spark.conf.set('spark.sql.repl.eagerEval.enabled', True)\n",
    "# spark.conf.set('spark.sql.repl.eagerEval.maxNumRows', 10)"
   ]
  },
  {
   "cell_type": "code",
   "execution_count": 35,
   "id": "c5afe2e2-dd7b-4c26-b5a1-64a3407fbcd2",
   "metadata": {},
   "outputs": [],
   "source": [
    "countries = pd.read_csv('best-countries-to-live-in-2024.csv')"
   ]
  },
  {
   "cell_type": "code",
   "execution_count": 37,
   "id": "3873aff4-f4f1-4261-8d63-708868be8a28",
   "metadata": {},
   "outputs": [],
   "source": [
    "df = spark.createDataFrame(countries)"
   ]
  },
  {
   "cell_type": "code",
   "execution_count": 41,
   "id": "f2654a17-d213-4407-9a78-97297c1463fa",
   "metadata": {},
   "outputs": [
    {
     "data": {
      "text/html": [
       "<table border='1'>\n",
       "<tr><th>population_2024</th><th>population_growthRate</th><th>land_area</th><th>country</th><th>region</th><th>unMember</th><th>population_density</th><th>population_densityMi</th><th>share_borders</th><th>Hdi2021</th><th>Hdi2020</th><th>WorldHappiness2022</th></tr>\n",
       "<tr><td>1441719852</td><td>0.00916</td><td>3287590</td><td>India</td><td>Asia</td><td>true</td><td>484.9067</td><td>1255.9084</td><td>AFG, BGD, BTN, MM...</td><td>0.633</td><td>0.642</td><td>3.777</td></tr>\n",
       "<tr><td>1425178782</td><td>-3.5E-4</td><td>9706961</td><td>China</td><td>Asia</td><td>true</td><td>151.2174</td><td>391.653</td><td>AFG, BTN, MMR, HK...</td><td>0.768</td><td>0.764</td><td>5.585</td></tr>\n",
       "<tr><td>341814420</td><td>0.00535</td><td>9372610</td><td>United States</td><td>North America</td><td>true</td><td>37.3673</td><td>96.7813</td><td>CAN, MEX</td><td>0.921</td><td>0.92</td><td>6.977</td></tr>\n",
       "<tr><td>279798049</td><td>0.00816</td><td>1904569</td><td>Indonesia</td><td>Asia</td><td>true</td><td>149.0254</td><td>385.9758</td><td>TLS, MYS, PNG</td><td>0.705</td><td>0.709</td><td>5.24</td></tr>\n",
       "<tr><td>245209815</td><td>0.01964</td><td>881912</td><td>Pakistan</td><td>Asia</td><td>true</td><td>318.0908</td><td>823.8551</td><td>AFG, CHN, IND, IRN</td><td>0.544</td><td>0.543</td><td>4.516</td></tr>\n",
       "<tr><td>229152217</td><td>0.02389</td><td>923768</td><td>Nigeria</td><td>Africa</td><td>true</td><td>251.6027</td><td>651.6511</td><td>BEN, CMR, TCD, NER</td><td>0.535</td><td>0.535</td><td>4.552</td></tr>\n",
       "<tr><td>217637297</td><td>0.00561</td><td>8515767</td><td>Brazil</td><td>South America</td><td>true</td><td>26.039</td><td>67.4409</td><td>ARG, BOL, COL, GU...</td><td>0.754</td><td>0.758</td><td>6.293</td></tr>\n",
       "<tr><td>174701211</td><td>0.0101</td><td>147570</td><td>Bangladesh</td><td>Asia</td><td>true</td><td>1342.1004</td><td>3476.0401</td><td>MMR, IND</td><td>0.661</td><td>0.655</td><td>5.155</td></tr>\n",
       "<tr><td>143957079</td><td>-0.00337</td><td>17098242</td><td>Russia</td><td>Europe</td><td>true</td><td>8.7903</td><td>22.7668</td><td>AZE, BLR, CHN, ES...</td><td>0.829</td><td>0.83</td><td>5.459</td></tr>\n",
       "<tr><td>129719719</td><td>0.02523</td><td>1104300</td><td>Ethiopia</td><td>Africa</td><td>true</td><td>114.9415</td><td>297.6986</td><td>DJI, ERI, KEN, SO...</td><td>0.498</td><td>0.498</td><td>4.241</td></tr>\n",
       "</table>\n",
       "only showing top 10 rows\n"
      ],
      "text/plain": [
       "+---------------+---------------------+---------+-------------+-------------+--------+------------------+--------------------+--------------------+-------+-------+------------------+\n",
       "|population_2024|population_growthRate|land_area|      country|       region|unMember|population_density|population_densityMi|       share_borders|Hdi2021|Hdi2020|WorldHappiness2022|\n",
       "+---------------+---------------------+---------+-------------+-------------+--------+------------------+--------------------+--------------------+-------+-------+------------------+\n",
       "|     1441719852|              0.00916|  3287590|        India|         Asia|    true|          484.9067|           1255.9084|AFG, BGD, BTN, MM...|  0.633|  0.642|             3.777|\n",
       "|     1425178782|              -3.5E-4|  9706961|        China|         Asia|    true|          151.2174|             391.653|AFG, BTN, MMR, HK...|  0.768|  0.764|             5.585|\n",
       "|      341814420|              0.00535|  9372610|United States|North America|    true|           37.3673|             96.7813|            CAN, MEX|  0.921|   0.92|             6.977|\n",
       "|      279798049|              0.00816|  1904569|    Indonesia|         Asia|    true|          149.0254|            385.9758|       TLS, MYS, PNG|  0.705|  0.709|              5.24|\n",
       "|      245209815|              0.01964|   881912|     Pakistan|         Asia|    true|          318.0908|            823.8551|  AFG, CHN, IND, IRN|  0.544|  0.543|             4.516|\n",
       "|      229152217|              0.02389|   923768|      Nigeria|       Africa|    true|          251.6027|            651.6511|  BEN, CMR, TCD, NER|  0.535|  0.535|             4.552|\n",
       "|      217637297|              0.00561|  8515767|       Brazil|South America|    true|            26.039|             67.4409|ARG, BOL, COL, GU...|  0.754|  0.758|             6.293|\n",
       "|      174701211|               0.0101|   147570|   Bangladesh|         Asia|    true|         1342.1004|           3476.0401|            MMR, IND|  0.661|  0.655|             5.155|\n",
       "|      143957079|             -0.00337| 17098242|       Russia|       Europe|    true|            8.7903|             22.7668|AZE, BLR, CHN, ES...|  0.829|   0.83|             5.459|\n",
       "|      129719719|              0.02523|  1104300|     Ethiopia|       Africa|    true|          114.9415|            297.6986|DJI, ERI, KEN, SO...|  0.498|  0.498|             4.241|\n",
       "+---------------+---------------------+---------+-------------+-------------+--------+------------------+--------------------+--------------------+-------+-------+------------------+\n",
       "only showing top 10 rows"
      ]
     },
     "execution_count": 41,
     "metadata": {},
     "output_type": "execute_result"
    }
   ],
   "source": [
    "df"
   ]
  },
  {
   "cell_type": "code",
   "execution_count": 58,
   "id": "a608f210-bd6f-44fb-b36f-a0be809066a4",
   "metadata": {},
   "outputs": [],
   "source": [
    "description = df.select('population_2024').describe()"
   ]
  },
  {
   "cell_type": "code",
   "execution_count": 57,
   "id": "d0994e64-e336-495d-80cb-a2ad44de9c11",
   "metadata": {},
   "outputs": [
    {
     "data": {
      "text/plain": [
       "54221566.312056735"
      ]
     },
     "execution_count": 57,
     "metadata": {},
     "output_type": "execute_result"
    }
   ],
   "source": [
    "countries.population_2024.mean()"
   ]
  },
  {
   "cell_type": "code",
   "execution_count": 69,
   "id": "29612229-99c3-4bbf-9d94-c5aefed50079",
   "metadata": {},
   "outputs": [
    {
     "data": {
      "text/html": [
       "<table border='1'>\n",
       "<tr><th>summary</th><th>population_2024</th><th>average_population</th></tr>\n",
       "<tr><td>count</td><td>141</td><td>141.00</td></tr>\n",
       "<tr><td>mean</td><td>5.4221566312056735E7</td><td>54221566.31</td></tr>\n",
       "<tr><td>stddev</td><td>1.749363379232842E8</td><td>174936337.92</td></tr>\n",
       "<tr><td>min</td><td>377689</td><td>377689.00</td></tr>\n",
       "<tr><td>max</td><td>1441719852</td><td>1441719852.00</td></tr>\n",
       "</table>\n"
      ],
      "text/plain": [
       "+-------+--------------------+------------------+\n",
       "|summary|     population_2024|average_population|\n",
       "+-------+--------------------+------------------+\n",
       "|  count|                 141|            141.00|\n",
       "|   mean|5.4221566312056735E7|       54221566.31|\n",
       "| stddev| 1.749363379232842E8|      174936337.92|\n",
       "|    min|              377689|         377689.00|\n",
       "|    max|          1441719852|     1441719852.00|\n",
       "+-------+--------------------+------------------+"
      ]
     },
     "execution_count": 69,
     "metadata": {},
     "output_type": "execute_result"
    }
   ],
   "source": [
    "description.withColumn('average_population', description.population_2024.cast(DecimalType(18, 2)))"
   ]
  },
  {
   "cell_type": "code",
   "execution_count": 72,
   "id": "e5398ef2-ce29-4bec-8f92-56560560bc2c",
   "metadata": {},
   "outputs": [],
   "source": [
    "def doble_int(i):\n",
    "    return i * 2"
   ]
  },
  {
   "cell_type": "code",
   "execution_count": 74,
   "id": "b88f1313-00b9-4164-9c9b-9a7d95955bda",
   "metadata": {},
   "outputs": [],
   "source": [
    "doublee = udf(doble_int)"
   ]
  },
  {
   "cell_type": "code",
   "execution_count": 85,
   "id": "9f98f7e0-eb2a-47c2-8e25-6ce11c1a7622",
   "metadata": {},
   "outputs": [],
   "source": [
    "df_2 = df.withColumn('double_population_2024', doublee(df.population_2024))"
   ]
  },
  {
   "cell_type": "code",
   "execution_count": 89,
   "id": "c17e598c-4b72-422e-8509-7f045d06ab13",
   "metadata": {},
   "outputs": [
    {
     "data": {
      "text/html": [
       "<table border='1'>\n",
       "<tr><th>double_population_2024</th></tr>\n",
       "<tr><td>2883439704</td></tr>\n",
       "<tr><td>2850357564</td></tr>\n",
       "<tr><td>683628840</td></tr>\n",
       "<tr><td>559596098</td></tr>\n",
       "<tr><td>490419630</td></tr>\n",
       "<tr><td>458304434</td></tr>\n",
       "<tr><td>435274594</td></tr>\n",
       "<tr><td>349402422</td></tr>\n",
       "<tr><td>287914158</td></tr>\n",
       "<tr><td>259439438</td></tr>\n",
       "</table>\n",
       "only showing top 10 rows\n"
      ],
      "text/plain": [
       "+----------------------+\n",
       "|double_population_2024|\n",
       "+----------------------+\n",
       "|            2883439704|\n",
       "|            2850357564|\n",
       "|             683628840|\n",
       "|             559596098|\n",
       "|             490419630|\n",
       "|             458304434|\n",
       "|             435274594|\n",
       "|             349402422|\n",
       "|             287914158|\n",
       "|             259439438|\n",
       "+----------------------+\n",
       "only showing top 10 rows"
      ]
     },
     "execution_count": 89,
     "metadata": {},
     "output_type": "execute_result"
    }
   ],
   "source": [
    "df_2.select(df_2.double_population_2024)"
   ]
  },
  {
   "cell_type": "code",
   "execution_count": 98,
   "id": "cdf7a950-1899-4804-8d9b-bc691bdb15f9",
   "metadata": {},
   "outputs": [
    {
     "data": {
      "text/html": [
       "<table border='1'>\n",
       "<tr><th>region</th><th>sum(population_2024)</th><th>sum(population_growthRate)</th><th>sum(land_area)</th><th>sum(population_density)</th><th>sum(population_densityMi)</th><th>sum(Hdi2021)</th><th>sum(Hdi2020)</th><th>sum(WorldHappiness2022)</th></tr>\n",
       "<tr><td>Asia</td><td>4608129325</td><td>0.34723000000000004</td><td>29767586</td><td>25762.240599999997</td><td>66724.2031</td><td>28.939999999999998</td><td>28.943</td><td>205.88800000000003</td></tr>\n",
       "<tr><td>Africa</td><td>1275733894</td><td>0.85272</td><td>24093018</td><td>4758.1548</td><td>12323.6213</td><td>22.735999999999997</td><td>22.826999999999998</td><td>180.57600000000002</td></tr>\n",
       "<tr><td>Europe</td><td>740714696</td><td>-0.06647</td><td>23007554</td><td>6241.408100000001</td><td>16165.2468</td><td>35.163</td><td>35.120999999999995</td><td>258.544</td></tr>\n",
       "<tr><td>North America</td><td>577000005</td><td>0.09861999999999999</td><td>21880629</td><td>1405.1227</td><td>3639.2676</td><td>8.295</td><td>8.283000000000001</td><td>69.17699999999999</td></tr>\n",
       "<tr><td>South America</td><td>411693509</td><td>0.0651</td><td>16442441</td><td>266.22180000000003</td><td>689.5142000000001</td><td>6.923</td><td>6.943999999999999</td><td>52.95700000000001</td></tr>\n",
       "<tr><td>Oceania</td><td>31969421</td><td>0.017849999999999998</td><td>7962491</td><td>23.4853</td><td>60.826899999999995</td><td>1.888</td><td>1.883</td><td>14.362</td></tr>\n",
       "</table>\n"
      ],
      "text/plain": [
       "+-------------+--------------------+--------------------------+--------------+-----------------------+-------------------------+------------------+------------------+-----------------------+\n",
       "|       region|sum(population_2024)|sum(population_growthRate)|sum(land_area)|sum(population_density)|sum(population_densityMi)|      sum(Hdi2021)|      sum(Hdi2020)|sum(WorldHappiness2022)|\n",
       "+-------------+--------------------+--------------------------+--------------+-----------------------+-------------------------+------------------+------------------+-----------------------+\n",
       "|         Asia|          4608129325|       0.34723000000000004|      29767586|     25762.240599999997|               66724.2031|28.939999999999998|            28.943|     205.88800000000003|\n",
       "|       Africa|          1275733894|                   0.85272|      24093018|              4758.1548|               12323.6213|22.735999999999997|22.826999999999998|     180.57600000000002|\n",
       "|       Europe|           740714696|                  -0.06647|      23007554|      6241.408100000001|               16165.2468|            35.163|35.120999999999995|                258.544|\n",
       "|North America|           577000005|       0.09861999999999999|      21880629|              1405.1227|                3639.2676|             8.295| 8.283000000000001|      69.17699999999999|\n",
       "|South America|           411693509|                    0.0651|      16442441|     266.22180000000003|        689.5142000000001|             6.923| 6.943999999999999|      52.95700000000001|\n",
       "|      Oceania|            31969421|      0.017849999999999998|       7962491|                23.4853|       60.826899999999995|             1.888|             1.883|                 14.362|\n",
       "+-------------+--------------------+--------------------------+--------------+-----------------------+-------------------------+------------------+------------------+-----------------------+"
      ]
     },
     "execution_count": 98,
     "metadata": {},
     "output_type": "execute_result"
    }
   ],
   "source": [
    "df.groupby('region').sum().sort('sum(population_2024)', ascending=False)"
   ]
  },
  {
   "cell_type": "code",
   "execution_count": null,
   "id": "443fa09b-b80e-4955-b812-f058875852ab",
   "metadata": {},
   "outputs": [],
   "source": []
  }
 ],
 "metadata": {
  "kernelspec": {
   "display_name": "Python 3 (ipykernel)",
   "language": "python",
   "name": "python3"
  },
  "language_info": {
   "codemirror_mode": {
    "name": "ipython",
    "version": 3
   },
   "file_extension": ".py",
   "mimetype": "text/x-python",
   "name": "python",
   "nbconvert_exporter": "python",
   "pygments_lexer": "ipython3",
   "version": "3.11.7"
  }
 },
 "nbformat": 4,
 "nbformat_minor": 5
}
